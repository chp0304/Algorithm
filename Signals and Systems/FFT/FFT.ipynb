{
 "cells": [
  {
   "attachments": {},
   "cell_type": "markdown",
   "metadata": {},
   "source": [
    "# FFT 相关资料\n",
    "\n",
    "https://zhuanlan.zhihu.com/p/407885496\n",
    "\n",
    "https://zhuanlan.zhihu.com/p/365872805\n",
    "\n",
    "https://www.bilibili.com/video/BV1za411F76U/?spm_id_from=333.1007.top_right_bar_window_history.content.click&vd_source=c4614f87aebe344095fbbba2786c3256\n",
    "\n",
    "https://www.bilibili.com/video/BV1jt411U7Bp/?spm_id_from=autoNext&vd_source=c4614f87aebe344095fbbba2786c3256"
   ]
  }
 ],
 "metadata": {
  "kernelspec": {
   "display_name": "d2l",
   "language": "python",
   "name": "python3"
  },
  "language_info": {
   "name": "python",
   "version": "3.9.16"
  },
  "orig_nbformat": 4
 },
 "nbformat": 4,
 "nbformat_minor": 2
}
