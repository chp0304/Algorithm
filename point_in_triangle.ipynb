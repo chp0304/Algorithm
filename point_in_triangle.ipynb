{
 "cells": [
  {
   "cell_type": "code",
   "execution_count": 6,
   "metadata": {},
   "outputs": [],
   "source": [
    "'''\n",
    "Author: chp\n",
    "Date: 2023-04-11 12:40:25\n",
    "LastEditTime: 2023-04-11 13:32:48\n",
    "LastEditors: chp\n",
    "Description: 判断点在三角形的内外部\n",
    "FilePath: \\python\\algorithm\\PIT\\point_in_triangle.ipynb\n",
    "Reference: https://blackpawn.com/texts/pointinpoly/\n",
    "'''\n",
    "\n",
    "import numpy as np\n",
    "\n",
    "'''\n",
    "description: 判断点point1与point2是否位于顶点a与b构成的向量的同一侧\n",
    "param {*} point1 待判断的点的坐标\n",
    "param {*} point2 不与三角形顶点a,b共线的三角形的另一顶点\n",
    "param {*} a 三角形的一个顶点\n",
    "param {*} b 三角形的另一个顶点\n",
    "return {*} 在同一侧return True,不在同一侧return False\n",
    "'''\n",
    "def Sameside(point1,point2,a,b):\n",
    "    cp1 = np.cross(point1 - a,b - a)\n",
    "    cp2 = np.cross(point2 - a,b - a)\n",
    "    if np.dot(cp1,cp2) >=0:\n",
    "        return True\n",
    "    else:\n",
    "        return False\n",
    "\n",
    "'''\n",
    "description: 根据内部点与第三个顶点与三角形一边的同一侧来判断一点是否位于三角形的内部\n",
    "param {*} point 待判断的点\n",
    "param {*} a 三角形的一个顶点\n",
    "param {*} b 同上\n",
    "param {*} c 同上\n",
    "return {*} 位于三角形的内部return True,位于外部,return False\n",
    "'''\n",
    "def PointTriangle1(point,a,b,c):\n",
    "    flag1 = Sameside(point,a,b,c)\n",
    "    flag2 = Sameside(point,b,a,c)\n",
    "    flag3 = Sameside(point,c,a,b)\n",
    "    if flag1 and flag2 and flag3:\n",
    "        return True\n",
    "    else:\n",
    "        return False"
   ]
  },
  {
   "cell_type": "code",
   "execution_count": 13,
   "metadata": {},
   "outputs": [],
   "source": [
    "'''\n",
    "description: 根据三角形内部点可以三角形的两边来表示来判断一点是否位于三角形的内部\n",
    "param {*} point 待判断的点\n",
    "param {*} a 三角形的一个顶点\n",
    "param {*} b 同上\n",
    "param {*} c 同上\n",
    "return {*} 位于三角形的内部return True,位于外部,return False\n",
    "'''\n",
    "def PointTriangle2(point,a,b,c):\n",
    "    v1 = b - a\n",
    "    v2 = c - a\n",
    "    v = point - a\n",
    "    a = (v2[1] * v[0] - v2[0] * v[1]) / (v1[0] * v2[1] - v1[1] * v2[0])\n",
    "    b = (v1[1] * v[0] - v1[0] * v[1]) / (v1[1] * v2[0] - v1[0] * v2[1])\n",
    "    if a < 0 or b < 0 :\n",
    "        return False\n",
    "    if a + b > 1 :\n",
    "        return False\n",
    "    if a > 1 or b > 1:\n",
    "        return False\n",
    "    return True"
   ]
  },
  {
   "cell_type": "code",
   "execution_count": 18,
   "metadata": {},
   "outputs": [
    {
     "name": "stdout",
     "output_type": "stream",
     "text": [
      "True\n"
     ]
    }
   ],
   "source": [
    "if __name__ == \"__main__\":\n",
    "    a = np.array([0,0])\n",
    "    b = np.array([1,0])\n",
    "    c = np.array([0,1])\n",
    "    point = np.array([0.1,0.2])\n",
    "    print(PointTriangle2(point,a,b,c))"
   ]
  }
 ],
 "metadata": {
  "kernelspec": {
   "display_name": "Python 3",
   "language": "python",
   "name": "python3"
  },
  "language_info": {
   "codemirror_mode": {
    "name": "ipython",
    "version": 3
   },
   "file_extension": ".py",
   "mimetype": "text/x-python",
   "name": "python",
   "nbconvert_exporter": "python",
   "pygments_lexer": "ipython3",
   "version": "3.8.9"
  },
  "orig_nbformat": 4
 },
 "nbformat": 4,
 "nbformat_minor": 2
}
